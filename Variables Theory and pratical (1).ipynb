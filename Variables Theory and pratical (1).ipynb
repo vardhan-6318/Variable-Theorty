{
 "cells": [
  {
   "cell_type": "markdown",
   "id": "b0179843-e4bb-45d7-adfe-31a293a50f02",
   "metadata": {},
   "source": [
    "VARIABLE IN PYTHON\n"
   ]
  },
  {
   "cell_type": "raw",
   "id": "0aaa5d6d-f701-487a-9e2e-63ff1d28b1d3",
   "metadata": {},
   "source": [
    "1) A Variable is a name that refers to a memory loctaion where a value is stored.\n",
    "2) A Variable is a container for data\n"
   ]
  },
  {
   "cell_type": "markdown",
   "id": "3241f436-998e-47df-a393-31be8b5b04f5",
   "metadata": {},
   "source": [
    "CHARCTERISTIC OF A VARIABLE"
   ]
  },
  {
   "cell_type": "code",
   "execution_count": null,
   "id": "46e9756c-85db-47e1-a3ae-7565a594d0d0",
   "metadata": {},
   "outputs": [],
   "source": [
    "1)Dynamic Typing: no need to declare any variable like (int, float, string)\n",
    "2)No Explicit Declaration: Just assign a value, and Python will automatically create the variable\n",
    "3)Mutable: You can change the value of a variable as many times as you need during the execution of your program\n"
   ]
  },
  {
   "cell_type": "markdown",
   "id": "35ee7bf2-e88b-4eb7-a0c9-8170d69cef5f",
   "metadata": {},
   "source": [
    "RULES TO DEFINE VARIABLE IN PYTHON"
   ]
  },
  {
   "cell_type": "code",
   "execution_count": null,
   "id": "3ae518c7-3e37-41cf-93f8-e31a94198d18",
   "metadata": {},
   "outputs": [],
   "source": [
    "1)Must start with a letter (a-z, A-Z) or an underscore (_).\n",
    "2)Can contain letters, digits (0-9), and underscores, but cannot start with a digit.\n",
    "3)Case-sensitive: age, Age, and AGE are different variables.\n",
    "4)Cannot be a Python keyword (e.g., True, False, if, for, class, etc.).\n"
   ]
  },
  {
   "cell_type": "code",
   "execution_count": null,
   "id": "92feeb1b-53ec-463e-ad68-724597e22c64",
   "metadata": {},
   "outputs": [],
   "source": [
    "Syntax:\n"
   ]
  },
  {
   "cell_type": "code",
   "execution_count": null,
   "id": "56b80c40-31b5-4d8f-bb97-7a30cbf9f059",
   "metadata": {},
   "outputs": [],
   "source": [
    "variable_name= value\n"
   ]
  },
  {
   "cell_type": "code",
   "execution_count": 7,
   "id": "e1e5a58c-cd83-4ad6-b3aa-e61237c3b505",
   "metadata": {},
   "outputs": [
    {
     "name": "stdout",
     "output_type": "stream",
     "text": [
      "25\n"
     ]
    }
   ],
   "source": [
    "# Example 1: Integer Variable\n",
    "age=25\n",
    "print(age)"
   ]
  },
  {
   "cell_type": "code",
   "execution_count": null,
   "id": "efbf40d2-d26e-435d-9fdf-bc986bc65b31",
   "metadata": {},
   "outputs": [],
   "source": [
    "Here, 'age' is a variable and it stores an integer value 25\n"
   ]
  },
  {
   "cell_type": "code",
   "execution_count": 13,
   "id": "9752e6cf-1f34-43ce-bf13-80bfcea2fe12",
   "metadata": {},
   "outputs": [
    {
     "name": "stdout",
     "output_type": "stream",
     "text": [
      "Alice\n"
     ]
    }
   ],
   "source": [
    "# Example 2: String Varaible\n",
    "name=\"Alice\"\n",
    "print(name)"
   ]
  },
  {
   "cell_type": "code",
   "execution_count": null,
   "id": "65172360-4425-4e93-9615-629172e6006e",
   "metadata": {},
   "outputs": [],
   "source": [
    "Here 'name' is a variable, storing a string \"Alice\"\n",
    "The Ouput is : Alice"
   ]
  },
  {
   "cell_type": "code",
   "execution_count": 33,
   "id": "22a0f700-4f8f-4eb1-b0b0-56ebe56301ff",
   "metadata": {},
   "outputs": [
    {
     "name": "stdout",
     "output_type": "stream",
     "text": [
      "19.99\n"
     ]
    }
   ],
   "source": [
    "# Example 3: Float Variable\n",
    "price = 19.99\n",
    "print(price)"
   ]
  },
  {
   "cell_type": "code",
   "execution_count": null,
   "id": "70050cf5-02b2-4bec-af76-9c9fa482ab9e",
   "metadata": {},
   "outputs": [],
   "source": [
    "Here 'price' is a variable, storing a floating point number"
   ]
  },
  {
   "cell_type": "code",
   "execution_count": 37,
   "id": "7721c606-ced0-4e09-8271-dad5e275c732",
   "metadata": {},
   "outputs": [
    {
     "name": "stdout",
     "output_type": "stream",
     "text": [
      "True\n"
     ]
    }
   ],
   "source": [
    "# Example 4: Boolean Variable \n",
    "is_active= True\n",
    "print(is_active)"
   ]
  },
  {
   "cell_type": "code",
   "execution_count": null,
   "id": "7a8c48bb-088b-40a4-b558-7fdbc5692efa",
   "metadata": {},
   "outputs": [],
   "source": [
    "Here 'is_active' is a varaible, storing a Boolean Value\n"
   ]
  },
  {
   "cell_type": "markdown",
   "id": "be9ef124-b5ec-4bbc-b57f-9d3e7d4bfb3c",
   "metadata": {},
   "source": [
    "1.Storing and Printing a Value"
   ]
  },
  {
   "cell_type": "markdown",
   "id": "c31ed1e1-c59d-4923-b98f-96f51c541fc1",
   "metadata": {},
   "source": [
    "#Storing the value 10 in a varaible called 'x'\n"
   ]
  },
  {
   "cell_type": "code",
   "execution_count": 54,
   "id": "544b8c6e-6e0a-449f-b856-532e1ca18e74",
   "metadata": {},
   "outputs": [
    {
     "name": "stdout",
     "output_type": "stream",
     "text": [
      "10\n"
     ]
    }
   ],
   "source": [
    "x=10\n",
    "print(x)"
   ]
  },
  {
   "cell_type": "markdown",
   "id": "0a2b73bb-0ef4-4d8b-92d6-d76f8fec8469",
   "metadata": {},
   "source": [
    "2. Using Variables in Expressions\n"
   ]
  },
  {
   "cell_type": "code",
   "execution_count": 62,
   "id": "0e2cbe91-ee43-4601-8d07-25d61094ff8d",
   "metadata": {},
   "outputs": [
    {
     "name": "stdout",
     "output_type": "stream",
     "text": [
      "8\n"
     ]
    }
   ],
   "source": [
    "# Assigning values to variables\n",
    "a=5\n",
    "b=3\n",
    "# Adding two variables and storing the result in 'result'\n",
    "result = a + b\n",
    "# Printing the result\n",
    "print (result)"
   ]
  },
  {
   "cell_type": "raw",
   "id": "ac09fdbb-17e5-4b8f-83e9-09a08b82ce15",
   "metadata": {},
   "source": [
    "#Output: 8\n"
   ]
  },
  {
   "cell_type": "markdown",
   "id": "f41b9dd6-a88a-4f4c-b12e-3032e5212979",
   "metadata": {},
   "source": [
    "3. Changing the Values of a Variable"
   ]
  },
  {
   "cell_type": "code",
   "execution_count": 67,
   "id": "ed425737-402d-4e6a-9316-c0c8eb8c0c8b",
   "metadata": {},
   "outputs": [
    {
     "name": "stdout",
     "output_type": "stream",
     "text": [
      "50\n"
     ]
    }
   ],
   "source": [
    "# Initial Value\n",
    "score = 50\n",
    "print (score)"
   ]
  },
  {
   "cell_type": "markdown",
   "id": "c3301919-3cea-41ed-9778-d052ec93b288",
   "metadata": {},
   "source": [
    "#Output=50"
   ]
  },
  {
   "cell_type": "code",
   "execution_count": 69,
   "id": "16165e7e-c294-46f8-9669-de3e8e7bbfb8",
   "metadata": {},
   "outputs": [
    {
     "name": "stdout",
     "output_type": "stream",
     "text": [
      "100\n"
     ]
    }
   ],
   "source": [
    "# Changing the value of 'score'\n",
    "score =100\n",
    "print(score)"
   ]
  },
  {
   "cell_type": "markdown",
   "id": "122855fd-28bb-4a2c-bf0e-fb9ee4420bd3",
   "metadata": {},
   "source": [
    "#Output=100"
   ]
  },
  {
   "cell_type": "markdown",
   "id": "d01be143-b671-482f-ace6-32aa0415a362",
   "metadata": {},
   "source": [
    "4.Concatenating Strings"
   ]
  },
  {
   "cell_type": "code",
   "execution_count": 78,
   "id": "97ee3b06-b605-44a2-b78c-076f5e465e19",
   "metadata": {},
   "outputs": [
    {
     "name": "stdout",
     "output_type": "stream",
     "text": [
      "JohnDoe\n"
     ]
    }
   ],
   "source": [
    "# Assigning values to variables\n",
    "first_name=\"John\"\n",
    "last_name=\"Doe\"\n",
    "\n",
    "# Concatenating strings and storing in a new variable\n",
    "full_name=first_name + \"\"+last_name\n",
    "print(full_name)"
   ]
  },
  {
   "cell_type": "markdown",
   "id": "110eb632-4413-4ca3-8bc2-3ccbb5173832",
   "metadata": {},
   "source": [
    "5.Using Variables in a Calculation"
   ]
  },
  {
   "cell_type": "code",
   "execution_count": 83,
   "id": "854036e9-c3a6-423b-a740-921d15651bf1",
   "metadata": {},
   "outputs": [
    {
     "name": "stdout",
     "output_type": "stream",
     "text": [
      "50\n"
     ]
    }
   ],
   "source": [
    "#Assigning values to variables\n",
    "length=10\n",
    "width=5\n",
    "\n",
    "#Calculating the area of rectangle\n",
    "area=length * width\n",
    "print (area)"
   ]
  },
  {
   "cell_type": "markdown",
   "id": "7f97ec9a-da38-466a-aaa6-e5c897173285",
   "metadata": {},
   "source": [
    "6.Reassigning Values to Variables"
   ]
  },
  {
   "cell_type": "raw",
   "id": "6f4237ac-8927-4d6a-91f0-320c7cb309c0",
   "metadata": {},
   "source": [
    "Python allows you to reassign a variable to a new value at anytime."
   ]
  },
  {
   "cell_type": "code",
   "execution_count": 86,
   "id": "83027cc1-7555-4ccd-93ad-133e832af13a",
   "metadata": {},
   "outputs": [
    {
     "name": "stdout",
     "output_type": "stream",
     "text": [
      "10\n"
     ]
    }
   ],
   "source": [
    "x=10\n",
    "# Initial value of x\n",
    "print(x)"
   ]
  },
  {
   "cell_type": "markdown",
   "id": "1142f8a9-e588-4d5a-b2c8-ef174395dfc0",
   "metadata": {},
   "source": [
    "#Output:10"
   ]
  },
  {
   "cell_type": "code",
   "execution_count": 88,
   "id": "b4101a14-dcfc-4241-9a94-dfde2b75ac35",
   "metadata": {},
   "outputs": [
    {
     "name": "stdout",
     "output_type": "stream",
     "text": [
      "20\n"
     ]
    }
   ],
   "source": [
    "#Reassigning the value of x\n",
    "x=20\n",
    "print(x)"
   ]
  },
  {
   "cell_type": "markdown",
   "id": "8fffcc6f-e316-45ba-b8c7-465a239ed843",
   "metadata": {},
   "source": [
    "#Output:20"
   ]
  },
  {
   "cell_type": "markdown",
   "id": "b33656fd-654b-4547-b751-5e1064907bc4",
   "metadata": {},
   "source": [
    "Final Notes:"
   ]
  },
  {
   "cell_type": "raw",
   "id": "c2cdf963-65de-4dd8-8982-4c3e9244f5e6",
   "metadata": {},
   "source": [
    "1. Variables can store any type of data, including numbers,strings,lists,dictionaries,objects,etc.\n",
    "2.Variables are dynamic, meaning their type is automatically determined by the value assigned to them,and they can change type during execution."
   ]
  }
 ],
 "metadata": {
  "kernelspec": {
   "display_name": "Python 3 (ipykernel)",
   "language": "python",
   "name": "python3"
  },
  "language_info": {
   "codemirror_mode": {
    "name": "ipython",
    "version": 3
   },
   "file_extension": ".py",
   "mimetype": "text/x-python",
   "name": "python",
   "nbconvert_exporter": "python",
   "pygments_lexer": "ipython3",
   "version": "3.12.7"
  }
 },
 "nbformat": 4,
 "nbformat_minor": 5
}
